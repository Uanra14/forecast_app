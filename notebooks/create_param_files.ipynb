{
 "cells": [
  {
   "cell_type": "code",
   "execution_count": null,
   "id": "b51ff81f",
   "metadata": {},
   "outputs": [],
   "source": [
    "# Create energy source files\n",
    "import csv\n",
    "import json\n",
    "\n",
    "# read csv file\n",
    "\n",
    "with open('../data/raw/Installed Capacity Per Production Unit_2025.csv', mode='r', newline='') as f:\n",
    "    reader = csv.DictReader(f)\n",
    "    data = [row for row in reader]\n",
    "\n",
    "key_mapping = {\n",
    "    'Production Type': 'tech',\n",
    "    'Name': 'name',\n",
    "    'Current Installed Capacity [MW]': 'capacity'\n",
    "}\n",
    "\n",
    "# apply key mapping\n",
    "mapped_data = [\n",
    "    {key_mapping[k]: v for k, v in row.items() if k in key_mapping} \n",
    "    for row in data\n",
    "]\n",
    "\n",
    "# write to json file\n",
    "with open('../data/clean/sources.json',\n",
    "        mode='w', encoding='utf-8') as f:\n",
    "        json.dump(mapped_data, f, indent=4)"
   ]
  },
  {
   "cell_type": "code",
   "execution_count": 2,
   "id": "3d9390a5",
   "metadata": {},
   "outputs": [],
   "source": [
    "# create demand file\n",
    "import csv\n",
    "import json\n",
    "\n",
    "# read csv file\n",
    "with open('../data/raw/load_june_w3_2025.csv', mode='r', newline='') as f:\n",
    "    reader = csv.DictReader(f)\n",
    "    data = [row for row in reader]\n",
    "\n",
    "# create demand list\n",
    "demands = []\n",
    "for row in data:\n",
    "    demand = {\n",
    "        'demand': float(row['Actual Total Load (MW)']),\n",
    "        'time': row['MTU (CET/CEST)']\n",
    "    }\n",
    "    demands.append(demand)\n",
    "\n",
    "# write to json file\n",
    "with open('../data/clean/demand.json', mode='w', encoding='utf-8') as f:\n",
    "    json.dump(demands, f, indent=4)"
   ]
  }
 ],
 "metadata": {
  "kernelspec": {
   "display_name": "Python 3",
   "language": "python",
   "name": "python3"
  },
  "language_info": {
   "codemirror_mode": {
    "name": "ipython",
    "version": 3
   },
   "file_extension": ".py",
   "mimetype": "text/x-python",
   "name": "python",
   "nbconvert_exporter": "python",
   "pygments_lexer": "ipython3",
   "version": "3.12.1"
  }
 },
 "nbformat": 4,
 "nbformat_minor": 5
}
